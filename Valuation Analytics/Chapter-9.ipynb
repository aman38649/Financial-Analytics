{
 "cells": [
  {
   "cell_type": "markdown",
   "metadata": {},
   "source": [
    "<h1 style=\"color:blue\"> Chapter 9 </h1>"
   ]
  },
  {
   "cell_type": "code",
   "execution_count": null,
   "metadata": {},
   "outputs": [],
   "source": [
    "import pandas as pd\n",
    "import numpy as np\n",
    "import matplotlib.pyplot as plt\n",
    "import seaborn as sns\n",
    "%matplotlib inline"
   ]
  },
  {
   "cell_type": "code",
   "execution_count": null,
   "metadata": {},
   "outputs": [],
   "source": [
    "def ent_value(revenue_0=100,assets_0=80,g_exp=0.05,g_std=0.01,margin_exp=0.15,\n",
    "             margin_std=0.03,turnover=1.3,terminal_g_exp=0.03,terminal_g_std=0.01,wacc=0.13):\n",
    "  g = np.random.normal(g_exp,g_std,5)\n",
    "  revenue = np.zeros(6)\n",
    "  revenue[0]=revenue_0\n",
    "  margin=np.random.normal(margin_exp,margin_std,5)\n",
    "  revenue=revenue_0*np.cumprod(1+g)\n",
    "  nopat = revenue*margin\n",
    "  assets = revenue/turnover\n",
    "  assets[4]=np.nan\n",
    "  terminal_g = np.random.normal(terminal_g_exp,terminal_g_std,1)\n",
    "  ROIC_5 = margin[4]*turnover\n",
    "  inv_rate_5=terminal_g/ROIC_5\n",
    "  net_inv_5 = nopat[4]*inv_rate_5\n",
    "  net_inv=np.zeros(5)\n",
    "  net_inv[0]=assets[0]-assets_0\n",
    "  net_inv[1:5]=np.diff(assets)\n",
    "  net_inv[4]=net_inv_5\n",
    "  fcf = nopat - net_inv\n",
    "  terminal_value = fcf[4]*(1+terminal_g)/(wacc-terminal_g)\n",
    "  discount_factors = 1/(1+wacc)**np.arange(1,6)\n",
    "  final_fcf = fcf + np.array([0,0,0,0,terminal_value])\n",
    "  enterprise_value = max(0,sum(final_fcf*discount_factors))\n",
    "  return enterprise_value\n"
   ]
  },
  {
   "cell_type": "code",
   "execution_count": null,
   "metadata": {},
   "outputs": [],
   "source": [
    "ent_value()"
   ]
  },
  {
   "cell_type": "code",
   "execution_count": null,
   "metadata": {},
   "outputs": [],
   "source": [
    "values = np.zeros(1000000)\n",
    "for i in range(1000000):\n",
    "        values[i]=ent_value()\n",
    "sns.histplot(values)"
   ]
  },
  {
   "cell_type": "code",
   "execution_count": null,
   "metadata": {},
   "outputs": [],
   "source": [
    "sns.histplot(values)\n",
    "plt.title(\"Probability Distribution of Enterprise Value\")\n",
    "plt.xlabel(\"Enterprise Value\")\n",
    "plt.ylabel(\"Probability\");"
   ]
  },
  {
   "cell_type": "code",
   "execution_count": null,
   "metadata": {},
   "outputs": [],
   "source": [
    "def valn_summary(revenue_0=100,assets_0=80,g_exp=0.05,g_std=0.01,margin_exp=0.15,margin_std=0.03,\n",
    "                     turnover=1.3,terminal_g_exp=0.03,terminal_g_std=0.01,wacc=0.13):\n",
    "     np.random.seed(seed=13)\n",
    "     g = np.random.normal(g_exp,g_std,5)\n",
    "     revenue = np.zeros(6)\n",
    "     revenue[0]=revenue_0\n",
    "     margin=np.random.normal(margin_exp,margin_std,5)\n",
    "     revenue=revenue_0*np.cumprod(1+g)\n",
    "     nopat = revenue*margin\n",
    "     assets = revenue/turnover\n",
    "     assets[4]=np.nan\n",
    "     terminal_g = np.random.normal(terminal_g_exp,terminal_g_std,1)\n",
    "     ROIC_5 = margin[4]*turnover\n",
    "     inv_rate_5=terminal_g/ROIC_5\n",
    "     net_inv_5 = nopat[4]*inv_rate_5\n",
    "     net_inv=np.zeros(5)\n",
    "     net_inv[0]=assets[0]-assets_0\n",
    "     net_inv[1:5]=np.diff(assets)\n",
    "     net_inv[4]=net_inv_5\n",
    "     assets[4]=assets[3]+net_inv[-1]\n",
    "     fcf = nopat - net_inv\n",
    "     terminal_value = fcf[4]*(1+terminal_g)/(wacc-terminal_g)\n",
    "     discount_factors = 1/(1+wacc)**np.arange(1,6)\n",
    "     final_fcf = fcf + np.array([0,0,0,0,terminal_value])\n",
    "     enterprise_value = max(0,sum(final_fcf*discount_factors))\n",
    "     df = pd.DataFrame(index=[\"Year 1\",\"Year 2\",\"Year 3\",\"Year 4\",\"Year 5\"])\n",
    "     df['Revenue']=revenue\n",
    "     df['NOPAT']=nopat\n",
    "     df['Assets']=assets\n",
    "     df['FCF']=fcf\n",
    "     print(df) \n",
    "     print(\"\\n\")\n",
    "     print(\"The Enterprise Value is \",round(enterprise_value[0],2))\n",
    "  \n"
   ]
  },
  {
   "cell_type": "code",
   "execution_count": null,
   "metadata": {},
   "outputs": [],
   "source": [
    "valn_summary()"
   ]
  },
  {
   "cell_type": "code",
   "execution_count": null,
   "metadata": {},
   "outputs": [],
   "source": [
    "valn_summary(revenue_0=523964,assets_0=236495,g_exp=0.0585,g_std=0.0127,margin_exp=0.0297,\n",
    "             margin_std=0.0053,turnover=2.37,terminal_g_exp=0.017,terminal_g_std=0.005,\n",
    "             wacc=0.032)"
   ]
  },
  {
   "cell_type": "code",
   "execution_count": null,
   "metadata": {},
   "outputs": [],
   "source": [
    "Evalues = np.zeros(1000000)\n",
    "for i in range(1000000):\n",
    "        Evalues[i]=ent_value()"
   ]
  },
  {
   "cell_type": "code",
   "execution_count": null,
   "metadata": {},
   "outputs": [],
   "source": [
    "sns.distplot(Evalues[Evalues<np.quantile(Evalues,0.99)])"
   ]
  }
 ],
 "metadata": {
  "kernelspec": {
   "display_name": "Python 3 (ipykernel)",
   "language": "python",
   "name": "python3"
  },
  "language_info": {
   "codemirror_mode": {
    "name": "ipython",
    "version": 3
   },
   "file_extension": ".py",
   "mimetype": "text/x-python",
   "name": "python",
   "nbconvert_exporter": "python",
   "pygments_lexer": "ipython3",
   "version": "3.10.4"
  }
 },
 "nbformat": 4,
 "nbformat_minor": 2
}
