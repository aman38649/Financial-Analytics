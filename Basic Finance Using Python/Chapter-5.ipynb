{
 "cells": [
  {
   "cell_type": "markdown",
   "id": "fbf71bff",
   "metadata": {},
   "source": [
    "<h1 \"style=color:blue\"> Chapter 5 </h1>"
   ]
  },
  {
   "cell_type": "markdown",
   "id": "5064c8a7",
   "metadata": {},
   "source": [
    "<h2 \"style = color:red\"> Time Value of Money </h2>"
   ]
  },
  {
   "cell_type": "code",
   "execution_count": null,
   "id": "b99662ef",
   "metadata": {},
   "outputs": [],
   "source": [
    "cashflows=[100,200,300,400,500]\n",
    "r = 0.1"
   ]
  },
  {
   "cell_type": "code",
   "execution_count": null,
   "id": "2bec757f",
   "metadata": {},
   "outputs": [],
   "source": [
    "def find_pv(r,cashflows):\n",
    "    pv = 0\n",
    "    for i in range(len(cashflows)):\n",
    "        pv = pv + cashflows[i]/(1+r)**(i+1)\n",
    "    return (pv)"
   ]
  },
  {
   "cell_type": "code",
   "execution_count": null,
   "id": "4286975b",
   "metadata": {},
   "outputs": [],
   "source": [
    "find_pv(r,cashflows)"
   ]
  },
  {
   "cell_type": "code",
   "execution_count": null,
   "id": "cd28644b",
   "metadata": {},
   "outputs": [],
   "source": [
    "def find_pva(r,k,A):\n",
    "    pva = (A/r)*(1-(1/(1+r)**k))\n",
    "    return pva"
   ]
  },
  {
   "cell_type": "code",
   "execution_count": null,
   "id": "f965f6b8",
   "metadata": {},
   "outputs": [],
   "source": [
    "find_pva(0.1,5,100)"
   ]
  },
  {
   "cell_type": "code",
   "execution_count": null,
   "id": "dc2dde06",
   "metadata": {},
   "outputs": [],
   "source": [
    "def find_fv(r,cashflows):\n",
    "    k=len(cashflows)\n",
    "    fv = 0\n",
    "    for i in range(k):\n",
    "        fv = fv + cashflows[i]*(1+r)**(k-i-1)\n",
    "    return fv\n",
    "    "
   ]
  },
  {
   "cell_type": "code",
   "execution_count": null,
   "id": "5594b4e8",
   "metadata": {},
   "outputs": [],
   "source": [
    "find_fv(r,cashflows)"
   ]
  },
  {
   "cell_type": "code",
   "execution_count": null,
   "id": "4fe41dfa",
   "metadata": {},
   "outputs": [],
   "source": [
    "def find_fva(r,k,A):\n",
    "    fva = (A/r)*((1+r)**k-1)\n",
    "    return fva"
   ]
  },
  {
   "cell_type": "code",
   "execution_count": null,
   "id": "122b13eb",
   "metadata": {},
   "outputs": [],
   "source": [
    "find_fva(0.1,5,100)"
   ]
  },
  {
   "cell_type": "markdown",
   "id": "00a03bf7",
   "metadata": {},
   "source": [
    "<h2 \"style = color:red\"> Risk and Return </h2>"
   ]
  },
  {
   "cell_type": "code",
   "execution_count": null,
   "id": "a753f20c",
   "metadata": {},
   "outputs": [],
   "source": [
    "import pandas as pd"
   ]
  },
  {
   "cell_type": "code",
   "execution_count": null,
   "id": "f0258e39",
   "metadata": {},
   "outputs": [],
   "source": [
    "prices = pd.Series([100,101,98,83,97])\n",
    "discrete_returns = prices.pct_change().dropna()\n",
    "discrete_returns"
   ]
  },
  {
   "cell_type": "code",
   "execution_count": null,
   "id": "dee08af3",
   "metadata": {},
   "outputs": [],
   "source": [
    "import numpy as np\n",
    "log_returns = np.log(1+discrete_returns)\n",
    "log_returns"
   ]
  },
  {
   "cell_type": "code",
   "execution_count": null,
   "id": "620dfd9a",
   "metadata": {},
   "outputs": [],
   "source": [
    "import pandas as pd\n",
    "import numpy as np\n",
    "import pandas_datareader.famafrench as ff"
   ]
  },
  {
   "cell_type": "code",
   "execution_count": null,
   "id": "463c0abb",
   "metadata": {},
   "outputs": [],
   "source": [
    "ff_data = ff.get_available_datasets()"
   ]
  },
  {
   "cell_type": "code",
   "execution_count": null,
   "id": "c3e114f7",
   "metadata": {},
   "outputs": [],
   "source": [
    "ff_data[:5]"
   ]
  },
  {
   "cell_type": "code",
   "execution_count": null,
   "id": "aa4b8e97",
   "metadata": {},
   "outputs": [],
   "source": [
    "ff_factors = ff.FamaFrenchReader(\"F-F_Research_Data_Factors\").read()"
   ]
  },
  {
   "cell_type": "code",
   "execution_count": null,
   "id": "0bada8c2",
   "metadata": {},
   "outputs": [],
   "source": [
    "ff_3f = ff_factors[0]\n",
    "ff_3f.head(2)"
   ]
  },
  {
   "cell_type": "code",
   "execution_count": null,
   "id": "6f32ca08",
   "metadata": {},
   "outputs": [],
   "source": [
    "import yfinance as yf"
   ]
  },
  {
   "cell_type": "code",
   "execution_count": null,
   "id": "16a2dedb",
   "metadata": {},
   "outputs": [],
   "source": [
    "ibm = yf.download(\"IBM\")"
   ]
  },
  {
   "cell_type": "code",
   "execution_count": null,
   "id": "d1b84050",
   "metadata": {},
   "outputs": [],
   "source": [
    "ibm.head(2)"
   ]
  },
  {
   "cell_type": "code",
   "execution_count": null,
   "id": "3c748d7a",
   "metadata": {},
   "outputs": [],
   "source": [
    "ibm_monthly = ibm.resample('MS').last()\n",
    "ibm_monthly.head(2)"
   ]
  },
  {
   "cell_type": "code",
   "execution_count": null,
   "id": "f79c5278",
   "metadata": {},
   "outputs": [],
   "source": [
    "ibm_monthly['returns']=ibm_monthly['Adj Close'].pct_change()*100"
   ]
  },
  {
   "cell_type": "code",
   "execution_count": null,
   "id": "bcc159ba",
   "metadata": {},
   "outputs": [],
   "source": [
    "ff_3f.index = ff_3f.index.to_timestamp(how='start')\n",
    "ff_3f.head(2)"
   ]
  },
  {
   "cell_type": "code",
   "execution_count": null,
   "id": "6d9175c9",
   "metadata": {},
   "outputs": [],
   "source": [
    "ibm_ff = ibm_monthly.join(ff_3f)"
   ]
  },
  {
   "cell_type": "code",
   "execution_count": null,
   "id": "be2a34ff",
   "metadata": {},
   "outputs": [],
   "source": [
    "ibm_ff = ibm_ff.loc[\"2017\":\"2021\",['returns','Mkt-RF','SMB','HML','RF']].dropna()\n",
    "ibm_ff.head(2)"
   ]
  },
  {
   "cell_type": "code",
   "execution_count": null,
   "id": "3be4bc0b",
   "metadata": {},
   "outputs": [],
   "source": [
    "ff_3f.index.dtype"
   ]
  },
  {
   "cell_type": "code",
   "execution_count": null,
   "id": "5bb66ef9",
   "metadata": {},
   "outputs": [],
   "source": [
    "pd.Period(year=2022,month=3,freq=\"M\")"
   ]
  },
  {
   "cell_type": "code",
   "execution_count": null,
   "id": "0a85c1a4",
   "metadata": {},
   "outputs": [],
   "source": [
    "pd.Period(year=2022,month=3,freq=\"M\").to_timestamp(how='start')"
   ]
  },
  {
   "cell_type": "code",
   "execution_count": null,
   "id": "6b8beb4f",
   "metadata": {},
   "outputs": [],
   "source": [
    "import statsmodels.api as sm"
   ]
  },
  {
   "cell_type": "code",
   "execution_count": null,
   "id": "32c9d58b",
   "metadata": {},
   "outputs": [],
   "source": [
    "ibm_ff['excess_returns'] = ibm_ff['returns']-ibm_ff['RF']"
   ]
  },
  {
   "cell_type": "code",
   "execution_count": null,
   "id": "f9df64a9",
   "metadata": {},
   "outputs": [],
   "source": [
    "X = ibm_ff[['Mkt-RF','SMB','HML']]\n",
    "y = ibm_ff['excess_returns']"
   ]
  },
  {
   "cell_type": "code",
   "execution_count": null,
   "id": "adc496a8",
   "metadata": {},
   "outputs": [],
   "source": [
    "X = sm.add_constant(X)"
   ]
  },
  {
   "cell_type": "code",
   "execution_count": null,
   "id": "ec3357b8",
   "metadata": {},
   "outputs": [],
   "source": [
    "model = sm.OLS(y,X).fit()"
   ]
  },
  {
   "cell_type": "code",
   "execution_count": null,
   "id": "e040e9d8",
   "metadata": {},
   "outputs": [],
   "source": [
    "model.summary()"
   ]
  },
  {
   "cell_type": "code",
   "execution_count": null,
   "id": "9ab21c20",
   "metadata": {},
   "outputs": [],
   "source": [
    "model.params"
   ]
  },
  {
   "cell_type": "markdown",
   "id": "a38fa0dc",
   "metadata": {},
   "source": [
    "<h2 \"style=color:red\"> Bond Valuation <?h2>"
   ]
  },
  {
   "cell_type": "code",
   "execution_count": null,
   "id": "4ecf6f4e",
   "metadata": {},
   "outputs": [],
   "source": [
    "C = 10\n",
    "n = 5\n",
    "y = 0.08\n",
    "FV = 100\n",
    "\n",
    "PV = C/y*(1-1/(1+y)**n)+FV/(1+y)**n\n",
    "PV"
   ]
  },
  {
   "cell_type": "code",
   "execution_count": null,
   "id": "83d15169",
   "metadata": {},
   "outputs": [],
   "source": [
    "def find_yield(FV,n,C,MV):\n",
    "    y = 0.1 #initial value\n",
    "    PV = C/y*(1-1/(1+y)**n)+FV/(1+y)**n\n",
    "    while abs(MV-PV)>0.01:\n",
    "        if MV>PV:\n",
    "            y = y - 0.0001\n",
    "            PV = C/y*(1-1/(1+y)**n)+FV/(1+y)**n\n",
    "        else:\n",
    "            y = y + 0.0001\n",
    "            PV = C/y*(1-1/(1+y)^n)+FV/(1+y)^n\n",
    "    return y"
   ]
  },
  {
   "cell_type": "code",
   "execution_count": null,
   "id": "dbca7b03",
   "metadata": {},
   "outputs": [],
   "source": [
    "find_yield(FV=100,n=5,C=10,MV=107.9854)"
   ]
  },
  {
   "cell_type": "code",
   "execution_count": null,
   "id": "5378e024",
   "metadata": {},
   "outputs": [],
   "source": [
    "def bond_value(FV, r, C):\n",
    "    n = len(r)\n",
    "    PV = 0\n",
    "    for i in range(1,n+1):\n",
    "        PV = PV + C/(1+r[i-1])**i\n",
    "  \n",
    "    PV = PV + FV/(1+r[n-1])**n\n",
    "    return PV\n"
   ]
  },
  {
   "cell_type": "code",
   "execution_count": null,
   "id": "78dd3220",
   "metadata": {},
   "outputs": [],
   "source": [
    "r = [0.04, 0.05, 0.06]\n",
    "FV = 100\n",
    "C = 10\n",
    "bond_value(FV,r,C)"
   ]
  },
  {
   "cell_type": "code",
   "execution_count": null,
   "id": "b78b848f",
   "metadata": {},
   "outputs": [],
   "source": [
    "find_yield(FV=100,n=3,C=10,MV=111.0438)"
   ]
  },
  {
   "cell_type": "markdown",
   "id": "6e7f9059",
   "metadata": {},
   "source": [
    "<h2 \"style=color:red\"> Stock Valuation </h2>"
   ]
  },
  {
   "cell_type": "code",
   "execution_count": null,
   "id": "089b6d0e",
   "metadata": {},
   "outputs": [],
   "source": [
    "def value_share(D0,g_current,g_terminal,r,nYears):\n",
    "    div=[0]*(1+nYears)\n",
    "    div[0]=D0\n",
    "    value=0\n",
    "    for i in range(1,nYears+1):\n",
    "        div[i]=div[i-1]*(1+g_current)\n",
    "        value = value + div[i]/(1+r)**i\n",
    "    terminal_value = div[-1]*(1+g_terminal)/(r-g_terminal)\n",
    "    value = value + terminal_value/(1+r)**nYears\n",
    "    return value    "
   ]
  },
  {
   "cell_type": "code",
   "execution_count": null,
   "id": "078bb06b",
   "metadata": {},
   "outputs": [],
   "source": [
    "value_share(2.20,0.0853,0.02,0.0355,5)"
   ]
  },
  {
   "cell_type": "code",
   "execution_count": null,
   "id": "19d795b6",
   "metadata": {},
   "outputs": [],
   "source": [
    "def value_share_g(networth,ROE,r,g,n):\n",
    "    payout = 1 - g/ROE\n",
    "    net_income = networth * ROE\n",
    "    dividend_total = net_income * payout\n",
    "    dividend_per_share = dividend_total/n\n",
    "    price = dividend_per_share/(r-g)\n",
    "    return price"
   ]
  },
  {
   "cell_type": "code",
   "execution_count": null,
   "id": "f91a9e71",
   "metadata": {},
   "outputs": [],
   "source": [
    "value_share_g(100,0.2,0.15,0.05,3)"
   ]
  },
  {
   "cell_type": "code",
   "execution_count": null,
   "id": "9386b382",
   "metadata": {},
   "outputs": [],
   "source": [
    "value_share_g(100,0.2,0.15,0.1,3)"
   ]
  },
  {
   "cell_type": "markdown",
   "id": "8d950a94",
   "metadata": {},
   "source": [
    "<h2 \"style=color:red\"> Option Payoff Diagrams </h2>"
   ]
  },
  {
   "cell_type": "code",
   "execution_count": null,
   "id": "a98dba98",
   "metadata": {},
   "outputs": [],
   "source": [
    "def call_option(S,K):\n",
    "    return np.maximum(S-K,0)\n",
    "def put_option(S,K):\n",
    "    return np.maximum(K-S,0)"
   ]
  },
  {
   "cell_type": "code",
   "execution_count": null,
   "id": "a2b09164",
   "metadata": {},
   "outputs": [],
   "source": [
    "import matplotlib.pyplot as plt\n",
    "import seaborn as sns"
   ]
  },
  {
   "cell_type": "code",
   "execution_count": null,
   "id": "5b5f7723",
   "metadata": {},
   "outputs": [],
   "source": [
    "def put_payoff_diagram(S,K):\n",
    "    put_values = put_option(S,K)\n",
    "    sns.lineplot(x=S,y=put_values)\n",
    "    plt.xlabel(\"Stock Prices\")\n",
    "    plt.ylabel(\"Option Payoffs\")\n",
    "    plt.title(\"Option Payoff to Put Option\")    "
   ]
  },
  {
   "cell_type": "code",
   "execution_count": null,
   "id": "1c9822bc",
   "metadata": {},
   "outputs": [],
   "source": [
    "ST = np.arange(80,120)\n",
    "put_payoff_diagram(S=ST,K=100)"
   ]
  },
  {
   "cell_type": "markdown",
   "id": "4f65de27",
   "metadata": {},
   "source": [
    "<h2 style=\"color:red\"> Black Scholes </h2>"
   ]
  },
  {
   "cell_type": "code",
   "execution_count": null,
   "id": "1dc68bad",
   "metadata": {},
   "outputs": [],
   "source": [
    "import scipy\n",
    "import numpy as np\n",
    "import matplotlib.pyplot as plt\n",
    "import seaborn as sns"
   ]
  },
  {
   "cell_type": "code",
   "execution_count": null,
   "id": "6f47bf0b",
   "metadata": {},
   "outputs": [],
   "source": [
    "def wiener_sim(del_t=0.001,n=100):\n",
    "    z = np.random.randn(n)*np.sqrt(del_t)\n",
    "    return np.cumsum(z)"
   ]
  },
  {
   "cell_type": "code",
   "execution_count": null,
   "id": "3fd8105b",
   "metadata": {},
   "outputs": [],
   "source": [
    "plt.plot(wiener_sim())\n",
    "plt.xlabel(\"Time\")\n",
    "plt.title(\"Stochastic Processing following Wiener Process\");"
   ]
  },
  {
   "cell_type": "code",
   "execution_count": null,
   "id": "2f9dd2fe",
   "metadata": {},
   "outputs": [],
   "source": [
    "def gen_wiener_sim(a=10,b=3,del_t=0.001,n=100):\n",
    "    w = np.random.normal(a*del_t,b*np.sqrt(del_t),n)\n",
    "    return np.cumsum(w)"
   ]
  },
  {
   "cell_type": "code",
   "execution_count": null,
   "id": "ea353e41",
   "metadata": {},
   "outputs": [],
   "source": [
    "z_init = 100\n",
    "plt.plot(z_init + gen_wiener_sim(a=10,b=10));"
   ]
  },
  {
   "cell_type": "markdown",
   "id": "56fd67bf",
   "metadata": {},
   "source": [
    "<h2 \"style=color:red\"> Simulation to value options </h2>"
   ]
  },
  {
   "cell_type": "code",
   "execution_count": null,
   "id": "1b024066",
   "metadata": {},
   "outputs": [],
   "source": [
    "def simulate_stock_prices(S,r,t,sigma,n=1000000):\n",
    "    z = np.random.randn(n)\n",
    "    ST = S*np.exp((r-sigma*sigma/2)*t + sigma*np.sqrt(t)*z)\n",
    "    return ST    "
   ]
  },
  {
   "cell_type": "code",
   "execution_count": null,
   "id": "581c09c6",
   "metadata": {},
   "outputs": [],
   "source": [
    "sns.histplot(simulate_stock_prices(S=100,r=0.03,t=0.25,sigma=0.3));"
   ]
  },
  {
   "cell_type": "code",
   "execution_count": null,
   "id": "968b4d96",
   "metadata": {},
   "outputs": [],
   "source": [
    "def call_sim(S,K,r,t,sigma,n=1000000):\n",
    "    call_T = np.mean(np.maximum(simulate_stock_prices(S=S,r=r,t=t,sigma=sigma,n=n)-K,0))\n",
    "    call = np.exp(-r*t)*call_T\n",
    "    return call"
   ]
  },
  {
   "cell_type": "code",
   "execution_count": null,
   "id": "2fb9ee4a",
   "metadata": {},
   "outputs": [],
   "source": [
    "call_sim(S=100,K=90,r=0.03,t=0.25,sigma=0.3)"
   ]
  },
  {
   "cell_type": "code",
   "execution_count": null,
   "id": "7021cb8e",
   "metadata": {},
   "outputs": [],
   "source": [
    "def BS_Call(S,K,r,t,sigma):\n",
    "    d1 = (np.log(S/K)+(r+sigma*sigma/2)*t)/(sigma*np.sqrt(t))\n",
    "    d2 = d1 - sigma*np.sqrt(t)\n",
    "    nd1 = scipy.stats.norm.cdf(d1)\n",
    "    nd2 = scipy.stats.norm.cdf(d2)\n",
    "    call = S*nd1 - K*np.exp(-r*t)*nd2\n",
    "    return call"
   ]
  },
  {
   "cell_type": "code",
   "execution_count": null,
   "id": "10b1c774",
   "metadata": {},
   "outputs": [],
   "source": [
    "BS_Call(S=100,K=90,r=0.03,t=0.25,sigma=0.3)"
   ]
  },
  {
   "cell_type": "code",
   "execution_count": null,
   "id": "ee55d38e",
   "metadata": {},
   "outputs": [],
   "source": [
    "def implied_vol(S,K,r,t,call):\n",
    "    sigma = 0.5\n",
    "    call_est = BS_Call(S,K,r,t,sigma)\n",
    "    while abs(call-call_est)>0.001:\n",
    "        call_est = BS_Call(S,K,r,t,sigma)\n",
    "        if call>call_est:\n",
    "            sigma = sigma + 0.0001\n",
    "        else:\n",
    "            sigma = sigma - 0.0001\n",
    "    return sigma"
   ]
  },
  {
   "cell_type": "code",
   "execution_count": null,
   "id": "3acca27d",
   "metadata": {},
   "outputs": [],
   "source": [
    "implied_vol(S=100,K=90,r=0.03,t=0.25,call=12.52)"
   ]
  },
  {
   "cell_type": "code",
   "execution_count": null,
   "id": "cf68cac7",
   "metadata": {},
   "outputs": [],
   "source": [
    "S = np.arange(80,130)\n",
    "options = [BS_Call(S=i,K=100,r=0.03,t=0.25,sigma=0.3) for i in S]\n",
    "callT = np.maximum(S-100,0)\n",
    "sns.lineplot(x=S,y=options-callT)\n",
    "plt.title(\"Time Premiums in Options\")\n",
    "plt.xlabel(\"Stock Prices\")\n",
    "plt.ylabel(\"Time Premiums\")\n",
    "plt.vlines(x=100,ymin = 0,ymax=7);"
   ]
  }
 ],
 "metadata": {
  "kernelspec": {
   "display_name": "Python 3 (ipykernel)",
   "language": "python",
   "name": "python3"
  },
  "language_info": {
   "codemirror_mode": {
    "name": "ipython",
    "version": 3
   },
   "file_extension": ".py",
   "mimetype": "text/x-python",
   "name": "python",
   "nbconvert_exporter": "python",
   "pygments_lexer": "ipython3",
   "version": "3.8.8"
  }
 },
 "nbformat": 4,
 "nbformat_minor": 5
}
