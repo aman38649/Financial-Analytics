{
 "cells": [
  {
   "cell_type": "code",
   "execution_count": 1,
   "id": "95302351",
   "metadata": {},
   "outputs": [],
   "source": [
    "import pandas as pd\n",
    "import numpy as np\n",
    "import yfinance as yf\n",
    "import scipy\n",
    "import matplotlib.pyplot as plt\n",
    "import seaborn as sns\n",
    "%matplotlib inline"
   ]
  },
  {
   "cell_type": "code",
   "execution_count": 2,
   "id": "43061237",
   "metadata": {},
   "outputs": [],
   "source": [
    "def cppi(asset,rf=0,floor=0.9,cushion_multiple=5):\n",
    "  n = asset.shape[0]\n",
    "  port_value = []\n",
    "  port_value.append(asset[0])\n",
    "  cushion = port_value[0] * (1-floor)\n",
    "  risky_asset = cushion * cushion_multiple\n",
    "  risk_free_asset = port_value[0] - risky_asset\n",
    "  \n",
    "  for i in range(1,n):\n",
    "    port_value.append((asset[i]/asset[i-1])*risky_asset + risk_free_asset*(1+rf))\n",
    "    cushion_new = port_value[i] - port_value[0]*floor\n",
    "    risky_asset = cushion_new * cushion_multiple\n",
    "    risk_free_asset = port_value[i] - risky_asset \n",
    "   \n",
    "  return port_value\n"
   ]
  },
  {
   "cell_type": "code",
   "execution_count": 3,
   "id": "f29a956f",
   "metadata": {},
   "outputs": [
    {
     "name": "stdout",
     "output_type": "stream",
     "text": [
      "[*********************100%***********************]  1 of 1 completed\n"
     ]
    },
    {
     "data": {
      "text/html": [
       "<div>\n",
       "<style scoped>\n",
       "    .dataframe tbody tr th:only-of-type {\n",
       "        vertical-align: middle;\n",
       "    }\n",
       "\n",
       "    .dataframe tbody tr th {\n",
       "        vertical-align: top;\n",
       "    }\n",
       "\n",
       "    .dataframe thead th {\n",
       "        text-align: right;\n",
       "    }\n",
       "</style>\n",
       "<table border=\"1\" class=\"dataframe\">\n",
       "  <thead>\n",
       "    <tr style=\"text-align: right;\">\n",
       "      <th></th>\n",
       "      <th>Open</th>\n",
       "      <th>High</th>\n",
       "      <th>Low</th>\n",
       "      <th>Close</th>\n",
       "      <th>Adj Close</th>\n",
       "      <th>Volume</th>\n",
       "    </tr>\n",
       "    <tr>\n",
       "      <th>Date</th>\n",
       "      <th></th>\n",
       "      <th></th>\n",
       "      <th></th>\n",
       "      <th></th>\n",
       "      <th></th>\n",
       "      <th></th>\n",
       "    </tr>\n",
       "  </thead>\n",
       "  <tbody>\n",
       "    <tr>\n",
       "      <th>1997-07-01</th>\n",
       "      <td>4263.109863</td>\n",
       "      <td>4301.770020</td>\n",
       "      <td>4247.660156</td>\n",
       "      <td>4300.859863</td>\n",
       "      <td>4300.859863</td>\n",
       "      <td>0</td>\n",
       "    </tr>\n",
       "    <tr>\n",
       "      <th>1997-07-02</th>\n",
       "      <td>4302.959961</td>\n",
       "      <td>4395.310059</td>\n",
       "      <td>4295.399902</td>\n",
       "      <td>4333.899902</td>\n",
       "      <td>4333.899902</td>\n",
       "      <td>0</td>\n",
       "    </tr>\n",
       "  </tbody>\n",
       "</table>\n",
       "</div>"
      ],
      "text/plain": [
       "                   Open         High          Low        Close    Adj Close  \\\n",
       "Date                                                                          \n",
       "1997-07-01  4263.109863  4301.770020  4247.660156  4300.859863  4300.859863   \n",
       "1997-07-02  4302.959961  4395.310059  4295.399902  4333.899902  4333.899902   \n",
       "\n",
       "            Volume  \n",
       "Date                \n",
       "1997-07-01       0  \n",
       "1997-07-02       0  "
      ]
     },
     "execution_count": 3,
     "metadata": {},
     "output_type": "execute_result"
    }
   ],
   "source": [
    "sensex = yf.download(\"^BSESN\")\n",
    "sensex.head(2)"
   ]
  },
  {
   "cell_type": "code",
   "execution_count": 4,
   "id": "a628047b",
   "metadata": {},
   "outputs": [],
   "source": [
    "sensex_ad = sensex['Adj Close']"
   ]
  },
  {
   "cell_type": "code",
   "execution_count": 9,
   "id": "f326e706",
   "metadata": {},
   "outputs": [
    {
     "data": {
      "text/plain": [
       "Date\n",
       "1997-07-01    4300.859863\n",
       "1997-07-02    4333.899902\n",
       "1997-07-03    4323.459961\n",
       "1997-07-04    4323.819824\n",
       "1997-07-07    4291.450195\n",
       "Name: Adj Close, dtype: float64"
      ]
     },
     "execution_count": 9,
     "metadata": {},
     "output_type": "execute_result"
    }
   ],
   "source": [
    "sensex_ad.head()"
   ]
  },
  {
   "cell_type": "code",
   "execution_count": 16,
   "id": "70fc1a0e",
   "metadata": {},
   "outputs": [],
   "source": [
    "sensex['CPPI'] = cppi(sensex_ad)"
   ]
  },
  {
   "cell_type": "code",
   "execution_count": 25,
   "id": "71af7da2",
   "metadata": {},
   "outputs": [
    {
     "data": {
      "text/html": [
       "<div>\n",
       "<style scoped>\n",
       "    .dataframe tbody tr th:only-of-type {\n",
       "        vertical-align: middle;\n",
       "    }\n",
       "\n",
       "    .dataframe tbody tr th {\n",
       "        vertical-align: top;\n",
       "    }\n",
       "\n",
       "    .dataframe thead th {\n",
       "        text-align: right;\n",
       "    }\n",
       "</style>\n",
       "<table border=\"1\" class=\"dataframe\">\n",
       "  <thead>\n",
       "    <tr style=\"text-align: right;\">\n",
       "      <th></th>\n",
       "      <th>Adj Close</th>\n",
       "      <th>CPPI</th>\n",
       "    </tr>\n",
       "    <tr>\n",
       "      <th>Date</th>\n",
       "      <th></th>\n",
       "      <th></th>\n",
       "    </tr>\n",
       "  </thead>\n",
       "  <tbody>\n",
       "    <tr>\n",
       "      <th>1997-07-01</th>\n",
       "      <td>4300.859863</td>\n",
       "      <td>4300.859863</td>\n",
       "    </tr>\n",
       "    <tr>\n",
       "      <th>1997-07-02</th>\n",
       "      <td>4333.899902</td>\n",
       "      <td>4317.379883</td>\n",
       "    </tr>\n",
       "    <tr>\n",
       "      <th>1997-07-03</th>\n",
       "      <td>4323.459961</td>\n",
       "      <td>4312.000732</td>\n",
       "    </tr>\n",
       "    <tr>\n",
       "      <th>1997-07-04</th>\n",
       "      <td>4323.819824</td>\n",
       "      <td>4312.184359</td>\n",
       "    </tr>\n",
       "    <tr>\n",
       "      <th>1997-07-07</th>\n",
       "      <td>4291.450195</td>\n",
       "      <td>4295.661592</td>\n",
       "    </tr>\n",
       "  </tbody>\n",
       "</table>\n",
       "</div>"
      ],
      "text/plain": [
       "              Adj Close         CPPI\n",
       "Date                                \n",
       "1997-07-01  4300.859863  4300.859863\n",
       "1997-07-02  4333.899902  4317.379883\n",
       "1997-07-03  4323.459961  4312.000732\n",
       "1997-07-04  4323.819824  4312.184359\n",
       "1997-07-07  4291.450195  4295.661592"
      ]
     },
     "execution_count": 25,
     "metadata": {},
     "output_type": "execute_result"
    }
   ],
   "source": [
    "sensex.iloc[0:100,[4,6]].head()"
   ]
  },
  {
   "cell_type": "code",
   "execution_count": 29,
   "id": "14055d20",
   "metadata": {},
   "outputs": [
    {
     "data": {
      "image/png": "[encoded data removed]",
      "text/plain": [
       "<Figure size 432x288 with 1 Axes>"
      ]
     },
     "metadata": {
      "needs_background": "light"
     },
     "output_type": "display_data"
    }
   ],
   "source": [
    "sensex.iloc[0:100,[4,6]].plot()\n",
    "plt.title(\"Sensex vs. CPPI: 1997\");"
   ]
  },
  {
   "cell_type": "code",
   "execution_count": 6,
   "id": "89aa5b62",
   "metadata": {},
   "outputs": [],
   "source": [
    "def find_nd1(S,K,rf,t,vol):\n",
    "  d1 = (np.log(S/K)+(rf+vol*vol*0.5)*t)/(vol*np.sqrt(t))\n",
    "  nd1 = scipy.stats.norm.cdf(d1)\n",
    "  return nd1\n",
    "\n",
    "\n",
    "def find_nd2(S,K,rf,t,vol):\n",
    "  d1 = (np.log(S/K)+(rf+vol*vol*0.5)*t)/(vol*np.sqrt(t))\n",
    "  d2 = d1 - vol*np.sqrt(t)\n",
    "  nd2 = scipy.stats.norm.cdf(d2)\n",
    "  return nd2\n"
   ]
  },
  {
   "cell_type": "code",
   "execution_count": 134,
   "id": "b951352b",
   "metadata": {},
   "outputs": [
    {
     "data": {
      "text/plain": [
       "0.0"
      ]
     },
     "execution_count": 134,
     "metadata": {},
     "output_type": "execute_result"
    }
   ],
   "source": [
    "find_nd1(100,200,0.1,0.001,0.5)"
   ]
  },
  {
   "cell_type": "code",
   "execution_count": 16,
   "id": "43bdb3e7",
   "metadata": {},
   "outputs": [
    {
     "data": {
      "text/plain": [
       "0.5638434379090567"
      ]
     },
     "execution_count": 16,
     "metadata": {},
     "output_type": "execute_result"
    }
   ],
   "source": [
    "find_nd2(100,90,0.1,1,0.5)"
   ]
  },
  {
   "cell_type": "code",
   "execution_count": 140,
   "id": "3d6b91d3",
   "metadata": {},
   "outputs": [],
   "source": [
    "def obpi(asset, rf=0.1,floor = 0.9,vol = 0.5,t = 1):\n",
    "  n = asset.shape[0]\n",
    "  #   asset = list(asset)\n",
    "  port_value = []\n",
    "  risky_asset=[]\n",
    "  risk_free_asset=[]\n",
    "    \n",
    "  port_value.append(asset[0])\n",
    "  S = asset[0]\n",
    "  K = asset[0]*floor\n",
    "  nd1 = find_nd1(S=S,K=K,rf=rf,t=t,vol=vol)\n",
    "  nd2 = find_nd2(S=S,K=K,rf=rf,t=t,vol=vol)\n",
    "  num = S*nd1\n",
    "  den = S*nd1 + K*np.exp(-rf*t)*nd2\n",
    "  alpha = num/den\n",
    "  risky_asset.append(asset[0]*alpha)\n",
    "  risk_free_asset.append(port_value[0] - risky_asset[0])\n",
    "  days = t*255  \n",
    "  \n",
    "  for i in range(1,n):\n",
    "    port_value.append((asset[i]/asset[i-1])*risky_asset[i-1] + risk_free_asset[i-1]*(1+rf/255))\n",
    "    S=asset[i]\n",
    "    t = (days-i)/255\n",
    "    nd1 = find_nd1(S=S,K=K,rf=rf,t=t,vol=vol)\n",
    "    nd2 = find_nd2(S=S,K=K,rf=rf,t=t,vol=vol)\n",
    "    num = S*nd1\n",
    "    den = S*nd1 + K*np.exp(-rf*t)*nd2\n",
    "    alpha = num/den\n",
    "    risky_asset.append(asset[i]*alpha)\n",
    "    risk_free_asset.append(port_value[i] - risky_asset[i])\n",
    "      \n",
    "  return port_value, risky_asset, risk_free_asset"
   ]
  },
  {
   "cell_type": "code",
   "execution_count": 148,
   "id": "bb74d9fe",
   "metadata": {},
   "outputs": [],
   "source": [
    "sensex_obpi = obpi(sensex_ad[:100])[0]"
   ]
  },
  {
   "cell_type": "code",
   "execution_count": 149,
   "id": "5a9c5388",
   "metadata": {},
   "outputs": [
    {
     "data": {
      "image/png": "[encoded data removed]",
      "text/plain": [
       "<Figure size 432x288 with 1 Axes>"
      ]
     },
     "metadata": {
      "needs_background": "light"
     },
     "output_type": "display_data"
    }
   ],
   "source": [
    "df = sensex_ad[:100].to_frame(name='Sensex')\n",
    "df['OBPI']=sensex_obpi\n",
    "df.plot();"
   ]
  }
 ],
 "metadata": {
  "kernelspec": {
   "display_name": "Python 3 (ipykernel)",
   "language": "python",
   "name": "python3"
  },
  "language_info": {
   "codemirror_mode": {
    "name": "ipython",
    "version": 3
   },
   "file_extension": ".py",
   "mimetype": "text/x-python",
   "name": "python",
   "nbconvert_exporter": "python",
   "pygments_lexer": "ipython3",
   "version": "3.10.4"
  }
 },
 "nbformat": 4,
 "nbformat_minor": 5
}
