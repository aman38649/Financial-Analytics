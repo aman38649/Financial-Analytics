{
 "cells": [
  {
   "cell_type": "code",
   "execution_count": null,
   "metadata": {},
   "outputs": [],
   "source": [
    "import pandas as pd\n",
    "import numpy as np\n",
    "import matplotlib.pyplot as plt\n",
    "import seaborn as sns\n",
    "import yfinance as yf\n",
    "%matplotlib inline"
   ]
  },
  {
   "cell_type": "code",
   "execution_count": null,
   "metadata": {},
   "outputs": [],
   "source": [
    "stocks=[\"RELIANCE.NS\",\"SBIN.NS\",\"TITAN.NS\"]"
   ]
  },
  {
   "cell_type": "code",
   "execution_count": null,
   "metadata": {},
   "outputs": [],
   "source": [
    "prices=pd.DataFrame()"
   ]
  },
  {
   "cell_type": "code",
   "execution_count": null,
   "metadata": {},
   "outputs": [],
   "source": [
    "for stock in stocks:\n",
    "    prices[stock]=yf.download(stock,start=\"2010-01-01\",end=\"2020-01-02\")['Close']"
   ]
  },
  {
   "cell_type": "code",
   "execution_count": null,
   "metadata": {},
   "outputs": [],
   "source": [
    "prices.head()"
   ]
  },
  {
   "cell_type": "code",
   "execution_count": null,
   "metadata": {},
   "outputs": [],
   "source": [
    "stock_returns = prices.pct_change().dropna()\n",
    "stock_returns.head()"
   ]
  },
  {
   "cell_type": "code",
   "execution_count": null,
   "metadata": {},
   "outputs": [],
   "source": [
    "weights = [0.2,0.3,0.5]"
   ]
  },
  {
   "cell_type": "code",
   "execution_count": null,
   "metadata": {},
   "outputs": [],
   "source": [
    "def port_returns(r = stock_returns,w = weights):\n",
    "    r1 = np.cumprod(r.add(1)).mul(w).sum(axis=1).sub(1)\n",
    "    return r1"
   ]
  },
  {
   "cell_type": "code",
   "execution_count": null,
   "metadata": {},
   "outputs": [],
   "source": [
    "wt = port_returns()\n",
    "wt.head()"
   ]
  },
  {
   "cell_type": "code",
   "execution_count": null,
   "metadata": {},
   "outputs": [],
   "source": [
    "stock_returns.mul(weights).sum(axis=1)[:5]"
   ]
  },
  {
   "cell_type": "code",
   "execution_count": null,
   "metadata": {},
   "outputs": [],
   "source": [
    "wt.add(1).cumprod().plot();"
   ]
  },
  {
   "cell_type": "code",
   "execution_count": null,
   "metadata": {},
   "outputs": [],
   "source": [
    "stock_returns.cov()"
   ]
  },
  {
   "cell_type": "code",
   "execution_count": null,
   "metadata": {},
   "outputs": [],
   "source": [
    "import trafalgar as tf\n",
    "import math # needed for the trafalgar library"
   ]
  },
  {
   "cell_type": "code",
   "execution_count": null,
   "metadata": {},
   "outputs": [],
   "source": [
    "tf.graph_close([\"FB\", \"AAPL\", \"TSLA\"], \"2020-01-01\", \"2022-01-01\")"
   ]
  },
  {
   "cell_type": "code",
   "execution_count": null,
   "metadata": {},
   "outputs": [],
   "source": [
    "tf.graph_returns([\"ITC.NS\", \"RELIANCE.NS\"], (0.5,0.5),\"2020-01-01\", \"2022-01-01\")"
   ]
  },
  {
   "cell_type": "code",
   "execution_count": null,
   "metadata": {},
   "outputs": [],
   "source": [
    "import pandas as pd\n",
    "from pypfopt import EfficientFrontier\n",
    "from pypfopt import risk_models\n",
    "from pypfopt import expected_returns\n",
    "from pypfopt import plotting\n",
    "from pypfopt import CLA\n",
    "from pypfopt import hierarchical_portfolio"
   ]
  },
  {
   "cell_type": "code",
   "execution_count": null,
   "metadata": {},
   "outputs": [],
   "source": [
    "nifty = pd.read_csv(\"Nifty.csv\")"
   ]
  },
  {
   "cell_type": "code",
   "execution_count": null,
   "metadata": {},
   "outputs": [],
   "source": [
    "nifty.Date = pd.to_datetime(nifty.Date,format=\"%d-%b-%y\")\n",
    "nifty.set_index('Date',inplace=True)\n",
    "nifty.head(2)"
   ]
  },
  {
   "cell_type": "code",
   "execution_count": null,
   "metadata": {},
   "outputs": [],
   "source": [
    "ret = expected_returns.mean_historical_return(nifty)\n",
    "risk = risk_models.sample_cov(nifty)"
   ]
  },
  {
   "cell_type": "code",
   "execution_count": null,
   "metadata": {},
   "outputs": [],
   "source": [
    "nifty_opt = EfficientFrontier(ret, risk)\n",
    "raw_weights = nifty_opt.max_sharpe()\n",
    "nifty_opt.portfolio_performance(verbose=True)"
   ]
  },
  {
   "cell_type": "code",
   "execution_count": null,
   "metadata": {},
   "outputs": [],
   "source": [
    "cla = CLA(ret,risk)"
   ]
  },
  {
   "cell_type": "code",
   "execution_count": null,
   "metadata": {},
   "outputs": [],
   "source": [
    "plotting.plot_efficient_frontier(cla)"
   ]
  },
  {
   "cell_type": "code",
   "execution_count": null,
   "metadata": {},
   "outputs": [],
   "source": [
    "nifty_opt_short = EfficientFrontier(ret, risk,weight_bounds=(-1,1))\n",
    "raw_weights = nifty_opt_short.max_sharpe()\n",
    "nifty_opt_short.portfolio_performance(verbose=True)"
   ]
  },
  {
   "cell_type": "code",
   "execution_count": null,
   "metadata": {},
   "outputs": [],
   "source": [
    "port = cla.efficient_frontier(200)"
   ]
  },
  {
   "cell_type": "code",
   "execution_count": null,
   "metadata": {},
   "outputs": [],
   "source": [
    "sns.lineplot(x = port[1],y=port[0])\n",
    "plt.title(\"Efficient Frontier\")\n",
    "plt.xlabel(\"Portfolio Standard Deviation\")\n",
    "plt.ylabel(\"POrtfolio Return\");"
   ]
  },
  {
   "cell_type": "code",
   "execution_count": null,
   "metadata": {},
   "outputs": [],
   "source": [
    "from pypfopt import BlackLittermanModel"
   ]
  },
  {
   "cell_type": "code",
   "execution_count": null,
   "metadata": {},
   "outputs": [],
   "source": [
    "risk = risk_models.sample_cov(nifty)\n",
    "my_views = {'Asian Paints Ltd.': 0.20, 'I T C Ltd.': -0.30, 'Shree Cement Ltd.': 0.3, \n",
    "            'Reliance Industries Ltd.': 0.4}\n",
    "bl = BlackLittermanModel(risk, pi=\"equal\", absolute_views=my_views)\n",
    "rets = bl.bl_returns()\n",
    "\n",
    "ef = EfficientFrontier(rets, risk)\n",
    "ef.max_sharpe()"
   ]
  },
  {
   "cell_type": "code",
   "execution_count": null,
   "metadata": {},
   "outputs": [],
   "source": [
    "nifty_hc = hierarchical_portfolio.HRPOpt(nifty)"
   ]
  },
  {
   "cell_type": "code",
   "execution_count": null,
   "metadata": {},
   "outputs": [],
   "source": [
    "nifty_hc.plot_dendrogram();"
   ]
  },
  {
   "cell_type": "code",
   "execution_count": null,
   "id": "2dcc5ffa",
   "metadata": {},
   "outputs": [],
   "source": [
    "import pandas as pd\n",
    "from mftool import Mftool "
   ]
  },
  {
   "cell_type": "code",
   "execution_count": null,
   "id": "8479a93f",
   "metadata": {},
   "outputs": [],
   "source": [
    "mf = Mftool()"
   ]
  },
  {
   "cell_type": "code",
   "execution_count": null,
   "id": "2bd56bdb",
   "metadata": {},
   "outputs": [],
   "source": [
    "schemes = mf.get_scheme_codes()\n",
    "len(schemes)"
   ]
  },
  {
   "cell_type": "code",
   "execution_count": null,
   "id": "4e8eb21c",
   "metadata": {},
   "outputs": [],
   "source": [
    "schemes['112938']"
   ]
  },
  {
   "cell_type": "code",
   "execution_count": null,
   "id": "76f67573",
   "metadata": {},
   "outputs": [],
   "source": [
    "nippon = mf.get_scheme_historical_nav(\"112938\",as_Dataframe=True)\n",
    "nippon.head(3)"
   ]
  },
  {
   "cell_type": "code",
   "execution_count": null,
   "id": "43061237",
   "metadata": {},
   "outputs": [],
   "source": [
    "def cppi(asset,rf=0,floor=0.9,cushion_multiple=5):\n",
    "  n = asset.shape[0]\n",
    "  port_value = []\n",
    "  port_value.append(asset[0])\n",
    "  cushion = port_value[0] * (1-floor)\n",
    "  risky_asset = cushion * cushion_multiple\n",
    "  risk_free_asset = port_value[0] - risky_asset\n",
    "  \n",
    "  for i in range(1,n):\n",
    "    port_value.append((asset[i]/asset[i-1])*risky_asset + risk_free_asset*(1+rf))\n",
    "    cushion_new = port_value[i] - port_value[0]*floor\n",
    "    risky_asset = cushion_new * cushion_multiple\n",
    "    risk_free_asset = port_value[i] - risky_asset \n",
    "   \n",
    "  return port_value\n"
   ]
  },
  {
   "cell_type": "code",
   "execution_count": null,
   "id": "2e4019c5",
   "metadata": {},
   "outputs": [],
   "source": [
    "sensex = yf.download(\"^BSESN\")\n",
    "sensex.head(2)"
   ]
  },
  {
   "cell_type": "code",
   "execution_count": null,
   "id": "a628047b",
   "metadata": {},
   "outputs": [],
   "source": [
    "sensex_ad = sensex['Adj Close']"
   ]
  },
  {
   "cell_type": "code",
   "execution_count": null,
   "id": "f326e706",
   "metadata": {},
   "outputs": [],
   "source": [
    "sensex_ad.head()dd"
   ]
  },
  {
   "cell_type": "code",
   "execution_count": null,
   "id": "70fc1a0e",
   "metadata": {},
   "outputs": [],
   "source": [
    "sensex['CPPI'] = cppi(sensex_ad)"
   ]
  },
  {
   "cell_type": "code",
   "execution_count": null,
   "metadata": {},
   "outputs": [],
   "source": [
    "sensex.iloc[0:100,[4,6]].head()"
   ]
  },
  {
   "cell_type": "code",
   "execution_count": null,
   "id": "71af7da2",
   "metadata": {},
   "outputs": [],
   "source": [
    "sensex.iloc[0:100,[4,6]].plot()\n",
    "plt.title(\"Sensex vs. CPPI: 1997\");"
   ]
  },
  {
   "cell_type": "code",
   "execution_count": null,
   "metadata": {},
   "outputs": [],
   "source": [
    "def find_nd1(S,K,rf,t,vol):\n",
    "  d1 = (np.log(S/K)+(rf+vol*vol*0.5)*t)/(vol*np.sqrt(t))\n",
    "  nd1 = scipy.stats.norm.cdf(d1)\n",
    "  return nd1\n",
    "\n",
    "\n",
    "def find_nd2(S,K,rf,t,vol):\n",
    "  d1 = (np.log(S/K)+(rf+vol*vol*0.5)*t)/(vol*np.sqrt(t))\n",
    "  d2 = d1 - vol*np.sqrt(t)\n",
    "  nd2 = scipy.stats.norm.cdf(d2)\n",
    "  return nd2\n"
   ]
  },
  {
   "cell_type": "code",
   "execution_count": null,
   "metadata": {},
   "outputs": [],
   "source": [
    "def obpi(asset, rf=0.1,floor = 0.9,vol = 0.5,t = 1):\n",
    "  n = asset.shape[0]\n",
    "  #   asset = list(asset)\n",
    "  port_value = []\n",
    "  risky_asset=[]\n",
    "  risk_free_asset=[]\n",
    "    \n",
    "  port_value.append(asset[0])\n",
    "  S = asset[0]\n",
    "  K = asset[0]*floor\n",
    "  nd1 = find_nd1(S=S,K=K,rf=rf,t=t,vol=vol)\n",
    "  nd2 = find_nd2(S=S,K=K,rf=rf,t=t,vol=vol)\n",
    "  num = S*nd1\n",
    "  den = S*nd1 + K*np.exp(-rf*t)*nd2\n",
    "  alpha = num/den\n",
    "  risky_asset.append(asset[0]*alpha)\n",
    "  risk_free_asset.append(port_value[0] - risky_asset[0])\n",
    "  days = t*255  \n",
    "  \n",
    "  for i in range(1,n):\n",
    "    port_value.append((asset[i]/asset[i-1])*risky_asset[i-1] + risk_free_asset[i-1]*(1+rf/255))\n",
    "    S=asset[i]\n",
    "    t = (days-i)/255\n",
    "    nd1 = find_nd1(S=S,K=K,rf=rf,t=t,vol=vol)\n",
    "    nd2 = find_nd2(S=S,K=K,rf=rf,t=t,vol=vol)\n",
    "    num = S*nd1\n",
    "    den = S*nd1 + K*np.exp(-rf*t)*nd2\n",
    "    alpha = num/den\n",
    "    risky_asset.append(asset[i]*alpha)\n",
    "    risk_free_asset.append(port_value[i] - risky_asset[i])\n",
    "      \n",
    "  return port_value, risky_asset, risk_free_asset"
   ]
  },
  {
   "cell_type": "code",
   "execution_count": null,
   "id": "bb74d9fe",
   "metadata": {},
   "outputs": [],
   "source": [
    "sensex_obpi = obpi(sensex_ad[:100])[0]"
   ]
  },
  {
   "cell_type": "code",
   "execution_count": null,
   "id": "5a9c5388",
   "metadata": {},
   "outputs": [],
   "source": [
    "df = sensex_ad[:100].to_frame(name='Sensex')\n",
    "df['OBPI']=sensex_obpi\n",
    "df.plot();"
   ]
  },
  {
   "cell_type": "code",
   "execution_count": null,
   "metadata": {},
   "outputs": [],
   "source": []
  },
  {
   "cell_type": "code",
   "execution_count": null,
   "metadata": {},
   "outputs": [],
   "source": []
  },
  {
   "cell_type": "code",
   "execution_count": null,
   "metadata": {},
   "outputs": [],
   "source": []
  },
  {
   "cell_type": "code",
   "execution_count": null,
   "metadata": {},
   "outputs": [],
   "source": [
    "fig,ax = plt.subplots(1,2,figsize=(10,5))\n",
    "\n",
    "stock_returns.loc['2019','RELIANCE.NS'].plot(title=\"RIL\",ax=ax[0]);\n",
    "stock_returns.loc['2019','SBIN.NS'].plot(title=\"SBI\",ax=ax[1]);\n",
    "plt.tight_layout()"
   ]
  },
  {
   "cell_type": "code",
   "execution_count": null,
   "metadata": {},
   "outputs": [],
   "source": [
    "stock_returns.loc['2019','RELIANCE.NS'].mean()*100, stock_returns.loc['2019','SBIN.NS'].mean()*100"
   ]
  },
  {
   "cell_type": "code",
   "execution_count": null,
   "metadata": {},
   "outputs": [],
   "source": [
    "stock_returns.loc['2019','RELIANCE.NS'].std()*100, stock_returns.loc['2019','SBIN.NS'].std()*100"
   ]
  },
  {
   "cell_type": "code",
   "execution_count": null,
   "metadata": {},
   "outputs": [],
   "source": [
    "1.7 *np.sqrt(252)"
   ]
  },
  {
   "cell_type": "code",
   "execution_count": null,
   "metadata": {},
   "outputs": [],
   "source": [
    "2.1791*np.sqrt(252)"
   ]
  },
  {
   "cell_type": "code",
   "execution_count": null,
   "metadata": {},
   "outputs": [],
   "source": [
    "stock_returns.loc['2019',['RELIANCE.NS','SBIN.NS']].corr()"
   ]
  },
  {
   "cell_type": "code",
   "execution_count": null,
   "metadata": {},
   "outputs": [],
   "source": [
    "weights = [0.5,0.5]"
   ]
  },
  {
   "cell_type": "code",
   "execution_count": null,
   "metadata": {},
   "outputs": [],
   "source": [
    "portfolio = stock_returns.loc['2019',['RELIANCE.NS','SBIN.NS']].mul(weights).sum(axis=1).plot(title=\"Portfolio of RIL and SBI\");"
   ]
  },
  {
   "cell_type": "code",
   "execution_count": null,
   "metadata": {},
   "outputs": [],
   "source": [
    "stock_returns.loc['2019',['RELIANCE.NS','SBIN.NS']].mul(weights).sum(axis=1).mean()*100"
   ]
  },
  {
   "cell_type": "code",
   "execution_count": null,
   "metadata": {},
   "outputs": [],
   "source": [
    "stock_returns.loc['2019',['RELIANCE.NS','SBIN.NS']].mul(weights).sum(axis=1).std()*100"
   ]
  },
  {
   "cell_type": "code",
   "execution_count": null,
   "metadata": {},
   "outputs": [],
   "source": [
    "r1 = np.cumprod(stock_returns.add(1)).mul(weights).sum(axis=1)\n",
    "r1[:5]"
   ]
  },
  {
   "cell_type": "code",
   "execution_count": null,
   "metadata": {},
   "outputs": [],
   "source": [
    "r2 = r1-1\n",
    "r2"
   ]
  },
  {
   "cell_type": "code",
   "execution_count": null,
   "metadata": {},
   "outputs": [],
   "source": [
    "def sigma_p(n,sigma,correlation):\n",
    "    varp = (1/n)*sigma*sigma+(1-(1/n))*correlation*sigma*sigma\n",
    "    return np.sqrt(varp)"
   ]
  },
  {
   "cell_type": "code",
   "execution_count": null,
   "metadata": {},
   "outputs": [],
   "source": [
    "n = np.arange(1,100)\n",
    "sigma_port = []\n",
    "for i in n:\n",
    "    sigma_port.append(sigma_p(i,sigma=0.2,correlation=0.3))"
   ]
  },
  {
   "cell_type": "code",
   "execution_count": null,
   "metadata": {},
   "outputs": [],
   "source": [
    "plt.plot(n,sigma_port)\n",
    "plt.xlabel(\"Number of Stocks\")\n",
    "plt.ylabel(\"Portfolio Standard Deviation\");\n",
    "plt.ylim([0.05,0.2])\n",
    "# plt.title(\"Portfolio Risk Vs. Number of Stocks\")"
   ]
  },
  {
   "cell_type": "code",
   "execution_count": null,
   "metadata": {},
   "outputs": [],
   "source": [
    "np.sqrt(0.3*0.2*0.2)"
   ]
  },
  {
   "cell_type": "code",
   "execution_count": null,
   "metadata": {},
   "outputs": [],
   "source": [
    "# Pairwise Correlation\n",
    "stock_returns['RELIANCE.NS'].rolling(90).corr(stock_returns['SBIN.NS']).plot(figsize=(12,6))\n",
    "plt.xlabel(\"Year\")\n",
    "plt.ylabel(\"Correlation Coefficient\");"
   ]
  },
  {
   "cell_type": "code",
   "execution_count": null,
   "metadata": {},
   "outputs": [],
   "source": [
    "stock_returns['RELIANCE.NS'].rolling(90).corr(stock_returns['SBIN.NS']).idxmax()"
   ]
  },
  {
   "cell_type": "code",
   "execution_count": null,
   "metadata": {},
   "outputs": [],
   "source": [
    "fig,ax = plt.subplots(1,2,figsize=(12,5))\n",
    "stock_returns['RELIANCE.NS'].rolling(90).std().plot(ax=ax[0],title='RIL')\n",
    "stock_returns['SBIN.NS'].rolling(90).std().plot(ax=ax[1],title='SBI')\n",
    "plt.tight_layout();"
   ]
  },
  {
   "cell_type": "code",
   "execution_count": null,
   "metadata": {},
   "outputs": [],
   "source": []
  }
 ],
 "metadata": {
  "kernelspec": {
   "display_name": "Python 3 (ipykernel)",
   "language": "python",
   "name": "python3"
  },
  "language_info": {
   "codemirror_mode": {
    "name": "ipython",
    "version": 3
   },
   "file_extension": ".py",
   "mimetype": "text/x-python",
   "name": "python",
   "nbconvert_exporter": "python",
   "pygments_lexer": "ipython3",
   "version": "3.10.4"
  }
 },
 "nbformat": 4,
 "nbformat_minor": 2
}
