{
 "cells": [
  {
   "cell_type": "markdown",
   "id": "8544b12d",
   "metadata": {},
   "source": [
    "<h1 style=\"color:blue\"> Chapter 10 </h1>"
   ]
  },
  {
   "cell_type": "code",
   "execution_count": null,
   "id": "1fab4639",
   "metadata": {},
   "outputs": [],
   "source": [
    "import pandas as pd\n",
    "import numpy as np\n",
    "import matplotlib.pyplot as plt\n",
    "import seaborn as sns\n",
    "import yfinance as yf\n",
    "%matplotlib inline"
   ]
  },
  {
   "cell_type": "code",
   "execution_count": null,
   "id": "7bc20fa8",
   "metadata": {},
   "outputs": [],
   "source": [
    "stocks=[\"RELIANCE.NS\",\"SBIN.NS\",\"TITAN.NS\"]"
   ]
  },
  {
   "cell_type": "code",
   "execution_count": null,
   "id": "fd1c9080",
   "metadata": {},
   "outputs": [],
   "source": [
    "prices=pd.DataFrame()"
   ]
  },
  {
   "cell_type": "code",
   "execution_count": null,
   "id": "7bd2ddf8",
   "metadata": {},
   "outputs": [],
   "source": [
    "for stock in stocks:\n",
    "    prices[stock]=yf.download(stock,start=\"2010-01-01\",end=\"2020-01-02\")['Close']"
   ]
  },
  {
   "cell_type": "code",
   "execution_count": null,
   "id": "a5e46f66",
   "metadata": {},
   "outputs": [],
   "source": [
    "prices.head()"
   ]
  },
  {
   "cell_type": "code",
   "execution_count": null,
   "id": "1644a329",
   "metadata": {},
   "outputs": [],
   "source": [
    "stock_returns = prices.pct_change().dropna()\n",
    "stock_returns.head()"
   ]
  },
  {
   "cell_type": "code",
   "execution_count": null,
   "id": "5f0fc655",
   "metadata": {},
   "outputs": [],
   "source": [
    "weights = [0.2,0.3,0.5]"
   ]
  },
  {
   "cell_type": "code",
   "execution_count": null,
   "id": "a4da46eb",
   "metadata": {},
   "outputs": [],
   "source": [
    "def port_returns(r = stock_returns,w = weights):\n",
    "    r1 = np.cumprod(r.add(1)).mul(w).sum(axis=1).sub(1)\n",
    "    return r1"
   ]
  },
  {
   "cell_type": "code",
   "execution_count": null,
   "id": "f487f531",
   "metadata": {},
   "outputs": [],
   "source": [
    "wt = port_returns()\n",
    "wt.head()"
   ]
  },
  {
   "cell_type": "code",
   "execution_count": null,
   "id": "735abf98",
   "metadata": {},
   "outputs": [],
   "source": [
    "stock_returns.mul(weights).sum(axis=1)[:5]"
   ]
  },
  {
   "cell_type": "code",
   "execution_count": null,
   "id": "8fd8f38b",
   "metadata": {},
   "outputs": [],
   "source": [
    "wt.add(1).cumprod().plot();"
   ]
  },
  {
   "cell_type": "code",
   "execution_count": null,
   "id": "48ece49c",
   "metadata": {},
   "outputs": [],
   "source": [
    "stock_returns.cov()"
   ]
  },
  {
   "cell_type": "code",
   "execution_count": null,
   "id": "284571f5",
   "metadata": {},
   "outputs": [],
   "source": [
    "import trafalgar as tf\n",
    "import math # needed for the trafalgar library"
   ]
  },
  {
   "cell_type": "code",
   "execution_count": null,
   "id": "c64d9cae",
   "metadata": {},
   "outputs": [],
   "source": [
    "tf.graph_close([\"FB\", \"AAPL\", \"TSLA\"], \"2020-01-01\", \"2022-01-01\")"
   ]
  },
  {
   "cell_type": "code",
   "execution_count": null,
   "id": "ec354ef2",
   "metadata": {},
   "outputs": [],
   "source": [
    "tf.graph_returns([\"ITC.NS\", \"RELIANCE.NS\"], (0.5,0.5),\"2020-01-01\", \"2022-01-01\")"
   ]
  },
  {
   "cell_type": "code",
   "execution_count": null,
   "id": "2a9ac2f9",
   "metadata": {},
   "outputs": [],
   "source": [
    "import pandas as pd\n",
    "from pypfopt import EfficientFrontier\n",
    "from pypfopt import risk_models\n",
    "from pypfopt import expected_returns\n",
    "from pypfopt import plotting\n",
    "from pypfopt import CLA\n",
    "from pypfopt import hierarchical_portfolio"
   ]
  },
  {
   "cell_type": "code",
   "execution_count": null,
   "id": "f13b6d72",
   "metadata": {},
   "outputs": [],
   "source": [
    "nifty = pd.read_csv(\"Nifty.csv\")"
   ]
  },
  {
   "cell_type": "code",
   "execution_count": null,
   "id": "b094ce0a",
   "metadata": {},
   "outputs": [],
   "source": [
    "nifty.Date = pd.to_datetime(nifty.Date,format=\"%d-%b-%y\")\n",
    "nifty.set_index('Date',inplace=True)\n",
    "nifty.head(2)"
   ]
  },
  {
   "cell_type": "code",
   "execution_count": null,
   "id": "0180fd49",
   "metadata": {},
   "outputs": [],
   "source": [
    "ret = expected_returns.mean_historical_return(nifty)\n",
    "risk = risk_models.sample_cov(nifty)"
   ]
  },
  {
   "cell_type": "code",
   "execution_count": null,
   "id": "4a4abe52",
   "metadata": {},
   "outputs": [],
   "source": [
    "nifty_opt = EfficientFrontier(ret, risk)\n",
    "raw_weights = nifty_opt.max_sharpe()\n",
    "nifty_opt.portfolio_performance(verbose=True)"
   ]
  },
  {
   "cell_type": "code",
   "execution_count": null,
   "id": "29929cdf",
   "metadata": {},
   "outputs": [],
   "source": [
    "cla = CLA(ret,risk)"
   ]
  },
  {
   "cell_type": "code",
   "execution_count": null,
   "id": "bfbe20a0",
   "metadata": {},
   "outputs": [],
   "source": [
    "plotting.plot_efficient_frontier(cla)"
   ]
  },
  {
   "cell_type": "code",
   "execution_count": null,
   "id": "2308bf03",
   "metadata": {},
   "outputs": [],
   "source": [
    "nifty_opt_short = EfficientFrontier(ret, risk,weight_bounds=(-1,1))\n",
    "raw_weights = nifty_opt_short.max_sharpe()\n",
    "nifty_opt_short.portfolio_performance(verbose=True)"
   ]
  },
  {
   "cell_type": "code",
   "execution_count": null,
   "id": "7e8cf203",
   "metadata": {},
   "outputs": [],
   "source": [
    "port = cla.efficient_frontier(200)"
   ]
  },
  {
   "cell_type": "code",
   "execution_count": null,
   "id": "1042c798",
   "metadata": {},
   "outputs": [],
   "source": [
    "sns.lineplot(x = port[1],y=port[0])\n",
    "plt.title(\"Efficient Frontier\")\n",
    "plt.xlabel(\"Portfolio Standard Deviation\")\n",
    "plt.ylabel(\"POrtfolio Return\");"
   ]
  },
  {
   "cell_type": "code",
   "execution_count": null,
   "id": "ef4ab5b2",
   "metadata": {},
   "outputs": [],
   "source": [
    "from pypfopt import BlackLittermanModel"
   ]
  },
  {
   "cell_type": "code",
   "execution_count": null,
   "id": "9d71e4b2",
   "metadata": {},
   "outputs": [],
   "source": [
    "risk = risk_models.sample_cov(nifty)\n",
    "my_views = {'Asian Paints Ltd.': 0.20, 'I T C Ltd.': -0.30, 'Shree Cement Ltd.': 0.3, \n",
    "            'Reliance Industries Ltd.': 0.4}\n",
    "bl = BlackLittermanModel(risk, pi=\"equal\", absolute_views=my_views)\n",
    "rets = bl.bl_returns()\n",
    "\n",
    "ef = EfficientFrontier(rets, risk)\n",
    "ef.max_sharpe()"
   ]
  },
  {
   "cell_type": "code",
   "execution_count": null,
   "id": "9984b10b",
   "metadata": {},
   "outputs": [],
   "source": [
    "nifty_hc = hierarchical_portfolio.HRPOpt(nifty)"
   ]
  },
  {
   "cell_type": "code",
   "execution_count": null,
   "id": "80309d31",
   "metadata": {},
   "outputs": [],
   "source": [
    "nifty_hc.plot_dendrogram();"
   ]
  },
  {
   "cell_type": "code",
   "execution_count": null,
   "id": "fa5f970b",
   "metadata": {},
   "outputs": [],
   "source": [
    "import pandas as pd\n",
    "from mftool import Mftool "
   ]
  },
  {
   "cell_type": "code",
   "execution_count": null,
   "id": "10b7419b",
   "metadata": {},
   "outputs": [],
   "source": [
    "mf = Mftool()"
   ]
  },
  {
   "cell_type": "code",
   "execution_count": null,
   "id": "6eb2eed0",
   "metadata": {},
   "outputs": [],
   "source": [
    "schemes = mf.get_scheme_codes()\n",
    "len(schemes)"
   ]
  },
  {
   "cell_type": "code",
   "execution_count": null,
   "id": "f5c0d43e",
   "metadata": {},
   "outputs": [],
   "source": [
    "schemes['112938']"
   ]
  },
  {
   "cell_type": "code",
   "execution_count": null,
   "id": "81e680cf",
   "metadata": {},
   "outputs": [],
   "source": [
    "nippon = mf.get_scheme_historical_nav(\"112938\",as_Dataframe=True)\n",
    "nippon.head(3)"
   ]
  },
  {
   "cell_type": "code",
   "execution_count": null,
   "id": "49617ec4",
   "metadata": {},
   "outputs": [],
   "source": [
    "def cppi(asset,rf=0,floor=0.9,cushion_multiple=5):\n",
    "  n = asset.shape[0]\n",
    "  port_value = []\n",
    "  port_value.append(asset[0])\n",
    "  cushion = port_value[0] * (1-floor)\n",
    "  risky_asset = cushion * cushion_multiple\n",
    "  risk_free_asset = port_value[0] - risky_asset\n",
    "  \n",
    "  for i in range(1,n):\n",
    "    port_value.append((asset[i]/asset[i-1])*risky_asset + risk_free_asset*(1+rf))\n",
    "    cushion_new = port_value[i] - port_value[0]*floor\n",
    "    risky_asset = cushion_new * cushion_multiple\n",
    "    risk_free_asset = port_value[i] - risky_asset \n",
    "   \n",
    "  return port_value\n"
   ]
  },
  {
   "cell_type": "code",
   "execution_count": null,
   "id": "561557a8",
   "metadata": {},
   "outputs": [],
   "source": [
    "sensex = yf.download(\"^BSESN\")\n",
    "sensex.head(2)"
   ]
  },
  {
   "cell_type": "code",
   "execution_count": null,
   "id": "946a15b8",
   "metadata": {},
   "outputs": [],
   "source": [
    "sensex_ad = sensex['Adj Close']"
   ]
  },
  {
   "cell_type": "code",
   "execution_count": null,
   "id": "12462e6d",
   "metadata": {},
   "outputs": [],
   "source": [
    "sensex['CPPI'] = cppi(sensex_ad)"
   ]
  },
  {
   "cell_type": "code",
   "execution_count": null,
   "id": "ba4860ab",
   "metadata": {},
   "outputs": [],
   "source": [
    "sensex.iloc[0:100,[4,6]].head()"
   ]
  },
  {
   "cell_type": "code",
   "execution_count": null,
   "id": "d4fd9380",
   "metadata": {},
   "outputs": [],
   "source": [
    "sensex.iloc[0:100,[4,6]].plot()\n",
    "plt.title(\"Sensex vs. CPPI: 1997\");"
   ]
  },
  {
   "cell_type": "code",
   "execution_count": null,
   "id": "55c75448",
   "metadata": {},
   "outputs": [],
   "source": [
    "def find_nd1(S,K,rf,t,vol):\n",
    "  d1 = (np.log(S/K)+(rf+vol*vol*0.5)*t)/(vol*np.sqrt(t))\n",
    "  nd1 = scipy.stats.norm.cdf(d1)\n",
    "  return nd1\n",
    "\n",
    "\n",
    "def find_nd2(S,K,rf,t,vol):\n",
    "  d1 = (np.log(S/K)+(rf+vol*vol*0.5)*t)/(vol*np.sqrt(t))\n",
    "  d2 = d1 - vol*np.sqrt(t)\n",
    "  nd2 = scipy.stats.norm.cdf(d2)\n",
    "  return nd2"
   ]
  },
  {
   "cell_type": "code",
   "execution_count": null,
   "id": "f367dd7f",
   "metadata": {},
   "outputs": [],
   "source": [
    "def obpi(asset, rf=0.1,floor = 0.9,vol = 0.5,t = 1):\n",
    "  n = asset.shape[0]\n",
    "  #   asset = list(asset)\n",
    "  port_value = []\n",
    "  risky_asset=[]\n",
    "  risk_free_asset=[]\n",
    "    \n",
    "  port_value.append(asset[0])\n",
    "  S = asset[0]\n",
    "  K = asset[0]*floor\n",
    "  nd1 = find_nd1(S=S,K=K,rf=rf,t=t,vol=vol)\n",
    "  nd2 = find_nd2(S=S,K=K,rf=rf,t=t,vol=vol)\n",
    "  num = S*nd1\n",
    "  den = S*nd1 + K*np.exp(-rf*t)*nd2\n",
    "  alpha = num/den\n",
    "  risky_asset.append(asset[0]*alpha)\n",
    "  risk_free_asset.append(port_value[0] - risky_asset[0])\n",
    "  days = t*255  \n",
    "  \n",
    "  for i in range(1,n):\n",
    "    port_value.append((asset[i]/asset[i-1])*risky_asset[i-1] + risk_free_asset[i-1]*(1+rf/255))\n",
    "    S=asset[i]\n",
    "    t = (days-i)/255\n",
    "    nd1 = find_nd1(S=S,K=K,rf=rf,t=t,vol=vol)\n",
    "    nd2 = find_nd2(S=S,K=K,rf=rf,t=t,vol=vol)\n",
    "    num = S*nd1\n",
    "    den = S*nd1 + K*np.exp(-rf*t)*nd2\n",
    "    alpha = num/den\n",
    "    risky_asset.append(asset[i]*alpha)\n",
    "    risk_free_asset.append(port_value[i] - risky_asset[i])\n",
    "      \n",
    "  return port_value, risky_asset, risk_free_asset"
   ]
  },
  {
   "cell_type": "code",
   "execution_count": null,
   "id": "a4268fb8",
   "metadata": {},
   "outputs": [],
   "source": [
    "sensex_obpi = obpi(sensex_ad[:100])[0]"
   ]
  },
  {
   "cell_type": "code",
   "execution_count": null,
   "id": "cc4009a2",
   "metadata": {},
   "outputs": [],
   "source": [
    "df = sensex_ad[:100].to_frame(name='Sensex')\n",
    "df['OBPI']=sensex_obpi\n",
    "df.plot();"
   ]
  }
 ],
 "metadata": {
  "kernelspec": {
   "display_name": "Python 3 (ipykernel)",
   "language": "python",
   "name": "python3"
  },
  "language_info": {
   "codemirror_mode": {
    "name": "ipython",
    "version": 3
   },
   "file_extension": ".py",
   "mimetype": "text/x-python",
   "name": "python",
   "nbconvert_exporter": "python",
   "pygments_lexer": "ipython3",
   "version": "3.8.8"
  }
 },
 "nbformat": 4,
 "nbformat_minor": 5
}
